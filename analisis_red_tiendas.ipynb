# %% [markdown]
"""
# Análisis de Red de Tiendas RetailNow

Este notebook realiza un análisis completo de los datos de ventas, inventarios y satisfacción del cliente para la cadena RetailNow.
"""

# %% [markdown]
"""
## 1. Preparación del entorno
"""

# %%
# Importación de librerías
import pandas as pd
import numpy as np
import matplotlib.pyplot as plt
import seaborn as sns

# Configuración de visualización
sns.set(style="whitegrid")
plt.rcParams['figure.figsize'] = (12, 6)

# %% [markdown]
"""
## 2. Carga y limpieza de datos
"""

# %%
# Cargar los datos desde los archivos CSV
ventas = pd.read_csv('/workspace/ventas.csv')
inventarios = pd.read_csv('/workspace/inventarios.csv')
satisfaccion = pd.read_csv('/workspace/satisfaccion.csv')

# Mostrar estructura inicial de los datos
print("Ventas - Primeras filas:")
display(ventas.head())
print("\nInventarios - Primeras filas:")
display(inventarios.head())
print("\nSatisfacción - Primeras filas:")
display(satisfaccion.head())

# %%
# Limpieza de datos - Eliminar filas con valores nulos
ventas_clean = ventas.dropna()
inventarios_clean = inventarios.dropna()
satisfaccion_clean = satisfaccion.dropna()

# Verificar limpieza
print(f"Registros originales vs limpios:")
print(f"Ventas: {len(ventas)} -> {len(ventas_clean)}")
print(f"Inventarios: {len(inventarios)} -> {len(inventarios_clean)}")
print(f"Satisfacción: {len(satisfaccion)} -> {len(satisfaccion_clean)}")

# %% [markdown]
"""
## 3. Análisis de Ventas
"""

# %%
# Calcular ventas totales por tienda
ventas_por_tienda = ventas_clean.groupby('tienda_id')['total_venta'].sum().reset_index()
ventas_por_tienda.columns = ['tienda_id', 'ventas_totales']

# Mostrar resultados
print("Ventas totales por tienda:")
display(ventas_por_tienda.sort_values('ventas_totales', ascending=False))

# %%
# Calcular ingresos totales por tienda (si no existe la columna total_venta)
if 'total_venta' not in ventas_clean.columns:
    ventas_clean['total_venta'] = ventas_clean['cantidad'] * ventas_clean['precio_unitario']
    ingresos_por_tienda = ventas_clean.groupby('tienda_id')['total_venta'].sum().reset_index()
    ingresos_por_tienda.columns = ['tienda_id', 'ingresos_totales']
else:
    ingresos_por_tienda = ventas_por_tienda.copy()
    ingresos_por_tienda.columns = ['tienda_id', 'ingresos_totales']

# Resumen estadístico
print("\nResumen estadístico de ventas:")
display(ventas_clean['total_venta'].describe())

# %%
# Visualización de ventas por tienda
plt.figure(figsize=(14, 6))
sns.barplot(x='tienda_id', y='ventas_totales', data=ventas_por_tienda.sort_values('ventas_totales', ascending=False))
plt.title('Ventas Totales por Tienda')
plt.xlabel('ID Tienda')
plt.ylabel('Ventas Totales ($)')
plt.xticks(rotation=45)
plt.show()

# %% [markdown]
"""
## 4. Análisis de Inventarios
"""

# %%
# Calcular rotación de inventarios
# Primero necesitamos combinar datos de ventas e inventarios
ventas_por_producto_tienda = ventas_clean.groupby(['tienda_id', 'producto_id'])['cantidad'].sum().reset_index()

inventario_con_ventas = pd.merge(
    inventarios_clean,
    ventas_por_producto_tienda,
    on=['tienda_id', 'producto_id'],
    how='left'
).fillna(0)  # Asignar 0 a productos sin ventas

# Calcular rotación (ventas / stock)
inventario_con_ventas['rotacion'] = inventario_con_ventas['cantidad'] / inventario_con_ventas['stock']

# %%
# Identificar inventarios críticos (rotación < 0.1)
inventarios_criticos = inventario_con_ventas[inventario_con_ventas['rotacion'] < 0.1]

print("Tiendas con inventarios críticos:")
display(inventarios_criticos['tienda_id'].value_counts().reset_index().rename(
    columns={'index': 'tienda_id', 'tienda_id': 'productos_criticos'}))

# %%
# Visualización de rotación de inventarios
plt.figure(figsize=(12, 6))
sns.boxplot(x='tienda_id', y='rotacion', data=inventario_con_ventas)
plt.title('Distribución de Rotación de Inventarios por Tienda')
plt.xlabel('ID Tienda')
plt.ylabel('Rotación (Ventas/Stock)')
plt.xticks(rotation=45)
plt.show()

# %% [markdown]
"""
## 5. Análisis de Satisfacción del Cliente
"""

# %%
# Filtrar tiendas con satisfacción < 60%
satisfaccion_baja = satisfaccion_clean[satisfaccion_clean['puntuacion'] < 60]

print("Tiendas con satisfacción baja (<60%):")
display(satisfaccion_baja)

# %%
# Combinar datos de satisfacción con ventas
rendimiento_tiendas = pd.merge(
    ventas_por_tienda,
    satisfaccion_clean,
    on='tienda_id',
    how='left'
)

# Visualizar relación entre satisfacción y ventas
plt.figure(figsize=(10, 6))
sns.scatterplot(x='puntuacion', y='ventas_totales', data=rendimiento_tiendas)
plt.title('Relación entre Satisfacción del Cliente y Ventas Totales')
plt.xlabel('Puntuación de Satisfacción (%)')
plt.ylabel('Ventas Totales ($)')
plt.show()

# %% [markdown]
"""
## 6. Cálculos Estadísticos con NumPy
"""

# %%
# Convertir ventas a array de NumPy
ventas_array = ventas_por_tienda['ventas_totales'].to_numpy()

# Calcular estadísticas
mediana_ventas = np.median(ventas_array)
desviacion_ventas = np.std(ventas_array)

print(f"Mediana de ventas totales: ${mediana_ventas:,.2f}")
print(f"Desviación estándar de ventas totales: ${desviacion_ventas:,.2f}")

# %%
# Simulación de proyecciones de ventas futuras
np.random.seed(42)  # Para reproducibilidad

# Basado en las ventas actuales, simular crecimiento aleatorio
proyecciones = np.random.normal(
    loc=1.1,  # Crecimiento promedio esperado del 10%
    scale=0.15,  # Variabilidad
    size=len(ventas_array)
)

ventas_proyectadas = ventas_array * proyecciones

# Resultados de la simulación
print("Proyección de ventas para el próximo período:")
for i, (actual, proyectada) in enumerate(zip(ventas_array, ventas_proyectadas)):
    print(f"Tienda {ventas_por_tienda.iloc[i]['tienda_id']}: ${actual:,.2f} -> ${proyectada:,.2f} ({proyecciones[i]-1:.1%})")

# %% [markdown]
"""
## 7. Conclusiones y Recomendaciones
"""

# %%
# Identificar tiendas problemáticas
tiendas_problema = pd.merge(
    satisfaccion_baja,
    inventarios_criticos['tienda_id'].value_counts().reset_index().rename(
        columns={'index': 'tienda_id', 'tienda_id': 'productos_criticos'}),
    on='tienda_id',
    how='left'
)

tiendas_problema = pd.merge(
    tiendas_problema,
    ventas_por_tienda,
    on='tienda_id',
    how='left'
).sort_values('ventas_totales')

print("\nTiendas prioritarias para intervención:")
display(tiendas_problema)

# %%
"""
### Recomendaciones:

1. **Para tiendas con baja satisfacción**:
   - Implementar programas de capacitación para el personal
   - Realizar encuestas detalladas para identificar causas específicas
   - Mejorar estándares de servicio al cliente

2. **Para tiendas con inventarios críticos**:
   - Revisar estrategias de compra y gestión de inventario
   - Implementar promociones para productos con baja rotación
   - Considerar redistribución de stock entre tiendas

3. **Para tiendas con bajo desempeño general**:
   - Realizar análisis de ubicación y competencia
   - Evaluar posibles remodelaciones o cambios de surtido
   - Asignar recursos de marketing adicionales

4. **Proyecciones de ventas**:
   - Las simulaciones sugieren un crecimiento promedio del 10%
   - Monitorear tiendas con proyecciones por debajo del promedio
   - Asignar recursos según potencial de crecimiento
"""